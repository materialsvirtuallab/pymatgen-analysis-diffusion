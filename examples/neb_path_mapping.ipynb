{
 "cells": [
  {
   "cell_type": "markdown",
   "metadata": {},
   "source": [
    "# Basic Usage of the FullPathMapper for Migration Analysis"
   ]
  },
  {
   "cell_type": "code",
   "execution_count": null,
   "metadata": {},
   "outputs": [],
   "source": [
    "# Start with a lithiated structure\n",
    "from pymatgen.core import Structure\n",
    "struct = Structure.from_file(\"../pymatgen/analysis/diffusion/neb/tests/full_path_files/Li6MnO4.cif\")"
   ]
  },
  {
   "cell_type": "code",
   "execution_count": null,
   "metadata": {},
   "outputs": [],
   "source": [
    "from pymatgen.analysis.diffusion.neb.full_path_mapper import MigrationGraph\n",
    "# Instantiate MigrationGraph and consider all hops within 4 Angstroms \n",
    "mg = MigrationGraph.with_distance(structure=struct, migrating_specie=\"Li\", max_distance=4)"
   ]
  },
  {
   "cell_type": "code",
   "execution_count": null,
   "metadata": {},
   "outputs": [
    {
     "data": {
      "text/plain": [
       "Structure Graph\n",
       "Structure: \n",
       "Structure Summary\n",
       "Lattice\n",
       "    abc : 8.20311505 8.20307727 8.2030913\n",
       " angles : 109.61368201 70.59993961 70.60014818000002\n",
       " volume : 424.92287452395345\n",
       "      A : 7.7373611090020535 0.0 2.7247641351939067\n",
       "      B : 3.8584313793521146 6.694832246113446 -2.753580430062137\n",
       "      C : 0.0 0.0 8.2030913\n",
       "PeriodicSite: Li (3.3098, 2.3865, 0.5729) [0.2500, 0.3565, 0.1065]\n",
       "PeriodicSite: Li (5.2391, 5.7339, 3.2977) [0.2500, 0.8565, 0.6065]\n",
       "PeriodicSite: Li (2.3452, 0.7128, 7.4137) [0.2500, 0.1065, 0.8565]\n",
       "PeriodicSite: Li (4.2744, 4.0602, 1.9353) [0.2500, 0.6065, 0.3565]\n",
       "PeriodicSite: Li (6.3569, 0.9609, 4.8765) [0.7500, 0.1435, 0.3935]\n",
       "PeriodicSite: Li (8.2861, 4.3084, 7.6013) [0.7500, 0.6435, 0.8935]\n",
       "PeriodicSite: Li (7.3216, 2.6347, 6.2388) [0.7500, 0.3935, 0.6435]\n",
       "PeriodicSite: Li (9.2508, 5.9821, 0.7605) [0.7500, 0.8935, 0.1435]\n",
       "PeriodicSite: Li (2.6779, 4.1842, -0.8843) [0.0344, 0.6250, 0.0906]\n",
       "PeriodicSite: Li (0.7487, 0.8368, 4.5940) [0.0344, 0.1250, 0.5906]\n",
       "PeriodicSite: Li (3.5099, 5.6276, 4.9569) [0.0344, 0.8406, 0.8750]\n",
       "PeriodicSite: Li (1.5806, 2.2802, 2.2321) [0.0344, 0.3406, 0.3750]\n",
       "PeriodicSite: Li (5.1822, 2.7410, 7.3188) [0.4656, 0.4094, 0.8750]\n",
       "PeriodicSite: Li (7.1114, 6.0883, 1.8404) [0.4656, 0.9094, 0.3750]\n",
       "PeriodicSite: Li (6.0139, 4.1842, 4.9568) [0.4656, 0.6250, 0.6594]\n",
       "PeriodicSite: Li (4.0846, 0.8367, 2.2320) [0.4656, 0.1250, 0.1594]\n",
       "PeriodicSite: Li (7.5112, 5.8579, 5.9420) [0.5344, 0.8750, 0.8406]\n",
       "PeriodicSite: Li (5.5820, 2.5105, 3.2173) [0.5344, 0.3750, 0.3406]\n",
       "PeriodicSite: Li (4.4845, 0.6063, 6.3336) [0.5344, 0.0906, 0.6250]\n",
       "PeriodicSite: Li (6.4138, 3.9538, 0.8553) [0.5344, 0.5906, 0.1250]\n",
       "PeriodicSite: Li (10.0154, 4.4148, 5.9421) [0.9656, 0.6594, 0.6250]\n",
       "PeriodicSite: Li (8.0862, 1.0674, 3.2174) [0.9656, 0.1594, 0.1250]\n",
       "PeriodicSite: Li (10.8472, 5.8579, 3.5800) [0.9656, 0.8750, 0.4094]\n",
       "PeriodicSite: Li (8.9179, 2.5106, 9.0584) [0.9656, 0.3750, 0.9094]\n",
       "Graph: bonds\n",
       "from    to  to_image    \n",
       "----  ----  ------------\n",
       "   0     2  (0, 0, -1)  \n",
       "   0     3  (0, 0, 0)   \n",
       "   0     8  (0, 0, 0)   \n",
       "   0    11  (0, 0, 0)   \n",
       "   0    12  (0, 0, -1)  \n",
       "   0    15  (0, 0, 0)   \n",
       "   0    16  (0, -1, -1) \n",
       "   0    17  (0, 0, 0)   \n",
       "   0    18  (0, 0, -1)  \n",
       "   0    19  (0, 0, 0)   \n",
       "   0    20  (-1, 0, 0)  \n",
       "   0    21  (-1, 0, 0)  \n",
       "   0    22  (-1, 0, 0)  \n",
       "   0    23  (-1, 0, -1) \n",
       "   1     2  (0, 1, 0)   \n",
       "   1     3  (0, 0, 0)   \n",
       "   1     9  (0, 1, 0)   \n",
       "   1    10  (0, 0, 0)   \n",
       "   1    13  (0, 0, 0)   \n",
       "   1    14  (0, 0, 0)   \n",
       "   1    16  (0, 0, 0)   \n",
       "   1    17  (0, 0, 0)   \n",
       "   1    18  (0, 1, 0)   \n",
       "   1    19  (0, 0, 0)   \n",
       "   1    20  (-1, 0, 0)  \n",
       "   1    21  (-1, 1, 1)  \n",
       "   1    22  (-1, 0, 0)  \n",
       "   1    23  (-1, 1, 0)  \n",
       "   2     8  (0, 0, 1)   \n",
       "   2     9  (0, 0, 0)   \n",
       "   2    10  (0, -1, 0)  \n",
       "   2    11  (0, 0, 1)   \n",
       "   2    12  (0, 0, 0)   \n",
       "   2    13  (0, -1, 0)  \n",
       "   2    14  (0, -1, 0)  \n",
       "   2    15  (0, 0, 1)   \n",
       "   2    16  (0, -1, 0)  \n",
       "   2    18  (0, 0, 0)   \n",
       "   2    21  (-1, 0, 1)  \n",
       "   2    23  (-1, 0, 0)  \n",
       "   3     8  (0, 0, 0)   \n",
       "   3     9  (0, 1, 0)   \n",
       "   3    10  (0, 0, 0)   \n",
       "   3    11  (0, 0, 0)   \n",
       "   3    12  (0, 0, -1)  \n",
       "   3    13  (0, 0, 0)   \n",
       "   3    14  (0, 0, 0)   \n",
       "   3    15  (0, 0, 0)   \n",
       "   3    17  (0, 0, 0)   \n",
       "   3    19  (0, 0, 0)   \n",
       "   3    20  (-1, 0, 0)  \n",
       "   3    22  (-1, 0, 0)  \n",
       "   4     6  (0, 0, 0)   \n",
       "   4     7  (0, -1, 0)  \n",
       "   4     8  (1, -1, 0)  \n",
       "   4     9  (1, 0, 0)   \n",
       "   4    10  (1, -1, -1) \n",
       "   4    11  (1, 0, 0)   \n",
       "   4    12  (0, 0, 0)   \n",
       "   4    13  (0, -1, 0)  \n",
       "   4    14  (0, 0, 0)   \n",
       "   4    15  (0, 0, 0)   \n",
       "   4    17  (0, 0, 0)   \n",
       "   4    18  (0, 0, 0)   \n",
       "   4    21  (0, 0, 0)   \n",
       "   4    22  (0, -1, 0)  \n",
       "   5     6  (0, 0, 0)   \n",
       "   5     7  (0, 0, 1)   \n",
       "   5     8  (1, 0, 1)   \n",
       "   5     9  (1, 0, 0)   \n",
       "   5    10  (1, 0, 0)   \n",
       "   5    11  (1, 0, 0)   \n",
       "   5    12  (0, 0, 0)   \n",
       "   5    13  (0, 0, 1)   \n",
       "   5    14  (0, 0, 0)   \n",
       "   5    15  (0, 1, 1)   \n",
       "   5    16  (0, 0, 0)   \n",
       "   5    19  (0, 0, 1)   \n",
       "   5    20  (0, 0, 0)   \n",
       "   5    23  (0, 0, 0)   \n",
       "   6     9  (1, 0, 0)   \n",
       "   6    11  (1, 0, 0)   \n",
       "   6    12  (0, 0, 0)   \n",
       "   6    14  (0, 0, 0)   \n",
       "   6    16  (0, 0, 0)   \n",
       "   6    17  (0, 0, 0)   \n",
       "   6    18  (0, 0, 0)   \n",
       "   6    19  (0, 0, 1)   \n",
       "   6    20  (0, 0, 0)   \n",
       "   6    21  (0, 0, 0)   \n",
       "   6    22  (0, -1, 0)  \n",
       "   6    23  (0, 0, 0)   \n",
       "   7     8  (1, 0, 0)   \n",
       "   7    10  (1, 0, -1)  \n",
       "   7    13  (0, 0, 0)   \n",
       "   7    15  (0, 1, 0)   \n",
       "   7    16  (0, 0, -1)  \n",
       "   7    17  (0, 1, 0)   \n",
       "   7    18  (0, 1, 0)   \n",
       "   7    19  (0, 0, 0)   \n",
       "   7    20  (0, 0, -1)  \n",
       "   7    21  (0, 1, 0)   \n",
       "   7    22  (0, 0, 0)   \n",
       "   7    23  (0, 0, -1)  \n",
       "   8    10  (0, 0, -1)  \n",
       "   8    11  (0, 0, 0)   \n",
       "   8    12  (0, 0, -1)  \n",
       "   8    13  (-1, 0, 0)  \n",
       "   8    22  (-1, 0, 0)  \n",
       "   8    23  (-1, 0, -1) \n",
       "   9    10  (0, -1, 0)  \n",
       "   9    11  (0, 0, 0)   \n",
       "   9    12  (-1, 0, 0)  \n",
       "   9    13  (0, -1, 0)  \n",
       "   9    22  (-1, -1, 0) \n",
       "   9    23  (-1, 0, 0)  \n",
       "  10    14  (0, 0, 0)   \n",
       "  10    15  (-1, 1, 1)  \n",
       "  10    20  (-1, 0, 0)  \n",
       "  10    21  (-1, 1, 1)  \n",
       "  11    14  (-1, 0, 0)  \n",
       "  11    15  (0, 0, 0)   \n",
       "  11    20  (-1, 0, 0)  \n",
       "  11    21  (-1, 0, 0)  \n",
       "  12    14  (0, 0, 0)   \n",
       "  12    15  (0, 0, 1)   \n",
       "  12    18  (0, 0, 0)   \n",
       "  12    19  (0, 0, 1)   \n",
       "  13    14  (0, 0, 0)   \n",
       "  13    15  (0, 1, 0)   \n",
       "  13    18  (0, 1, 0)   \n",
       "  13    19  (0, 0, 0)   \n",
       "  14    16  (0, 0, 0)   \n",
       "  14    17  (0, 0, 0)   \n",
       "  15    16  (0, -1, -1) \n",
       "  15    17  (0, 0, 0)   \n",
       "  16    18  (0, 1, 0)   \n",
       "  16    19  (0, 0, 1)   \n",
       "  16    20  (0, 0, 0)   \n",
       "  16    21  (-1, 1, 1)  \n",
       "  17    18  (0, 0, 0)   \n",
       "  17    19  (0, 0, 0)   \n",
       "  17    20  (-1, 0, 0)  \n",
       "  17    21  (0, 0, 0)   \n",
       "  18    22  (0, -1, 0)  \n",
       "  18    23  (-1, 0, 0)  \n",
       "  19    22  (-1, 0, 0)  \n",
       "  19    23  (0, 0, -1)  \n",
       "  20    22  (0, 0, 0)   \n",
       "  20    23  (0, 0, 0)   \n",
       "  21    22  (0, -1, 0)  \n",
       "  21    23  (0, 0, -1)  "
      ]
     },
     "execution_count": null,
     "metadata": {},
     "output_type": "execute_result"
    }
   ],
   "source": [
    "mg.m_graph"
   ]
  },
  {
   "cell_type": "code",
   "execution_count": null,
   "metadata": {},
   "outputs": [
    {
     "name": "stdout",
     "output_type": "stream",
     "text": [
      "Number of unique hops = 7 \n",
      "\n",
      "A unique hop:\n"
     ]
    },
    {
     "data": {
      "text/plain": [
       "{'to_jimage': (0, 0, -1),\n",
       " 'ipos': array([0.25001 , 0.356472, 0.106459]),\n",
       " 'epos': array([ 0.250004,  0.106468, -0.143533]),\n",
       " 'ipos_cart': array([3.3098404 , 2.38652024, 0.57293686]),\n",
       " 'epos_cart': array([ 2.3451707 ,  0.7127854 , -0.78938057]),\n",
       " 'hop': Path of 2.3639 A from Li [0.250, 0.356, 0.106] (ind: 0, Wyckoff: 8d) to Li [0.250, 0.106, -0.144] (ind: 0, Wyckoff: 8d),\n",
       " 'hop_label': 0,\n",
       " 'iindex': 0,\n",
       " 'eindex': 2,\n",
       " 'hop_distance': 2.36387070814374}"
      ]
     },
     "execution_count": null,
     "metadata": {},
     "output_type": "execute_result"
    }
   ],
   "source": [
    "print(\"Number of unique hops =\", len(mg.unique_hops), \"\\n\\nA unique hop:\")\n",
    "mg.unique_hops[0]"
   ]
  },
  {
   "cell_type": "code",
   "execution_count": null,
   "metadata": {},
   "outputs": [
    {
     "data": {
      "text/plain": [
       "{'to_jimage': (0, 0, -1),\n",
       " 'ipos': array([0.25001 , 0.356472, 0.106459]),\n",
       " 'epos': array([ 0.250004,  0.106468, -0.143533]),\n",
       " 'ipos_cart': array([3.3098404 , 2.38652024, 0.57293686]),\n",
       " 'epos_cart': array([ 2.3451707 ,  0.7127854 , -0.78938057]),\n",
       " 'hop': Path of 2.3639 A from Li [0.250, 0.356, 0.106] (ind: 0, Wyckoff: 8d) to Li [0.250, 0.106, -0.144] (ind: 0, Wyckoff: 8d),\n",
       " 'hop_label': 0,\n",
       " 'iindex': 0,\n",
       " 'eindex': 2,\n",
       " 'hop_distance': 2.36387070814374,\n",
       " 'cost': 2.36387070814374}"
      ]
     },
     "execution_count": null,
     "metadata": {},
     "output_type": "execute_result"
    }
   ],
   "source": [
    "# Assign a cost element to the hops in the form of distance\n",
    "mg.assign_cost_to_graph(cost_keys=[\"hop_distance\"])\n",
    "mg.unique_hops[0]"
   ]
  },
  {
   "cell_type": "code",
   "execution_count": null,
   "metadata": {},
   "outputs": [],
   "source": [
    "# Get migration paths through the material of interest using the MigrationGraph hop data\n",
    "paths = []\n",
    "for u, path in mg.get_path():\n",
    "    paths.append(path)"
   ]
  },
  {
   "cell_type": "code",
   "execution_count": null,
   "metadata": {},
   "outputs": [
    {
     "name": "stdout",
     "output_type": "stream",
     "text": [
      "Number of paths = 24 \n",
      "\n",
      "A example of a path of length 4\n"
     ]
    },
    {
     "data": {
      "text/plain": [
       "[{'to_jimage': (0, 0, 0),\n",
       "  'ipos': array([0.25001 , 0.356472, 0.106459]),\n",
       "  'epos': array([0.250002, 0.606472, 0.356464]),\n",
       "  'ipos_cart': array([3.3098404 , 2.38652024, 0.57293686]),\n",
       "  'epos_cart': array([4.27438635, 4.0602283 , 1.93533379]),\n",
       "  'hop': Path of 2.3638 A from Li [0.250, 0.356, 0.106] (ind: 0, Wyckoff: 8d) to Li [0.250, 0.606, 0.356] (ind: 0, Wyckoff: 8d),\n",
       "  'hop_label': 0,\n",
       "  'iindex': 0,\n",
       "  'eindex': 3,\n",
       "  'hop_distance': 2.363847068890116,\n",
       "  'cost': 2.36387070814374},\n",
       " {'to_jimage': (0, 0, 0),\n",
       "  'ipos': array([0.250015, 0.85647 , 0.606455]),\n",
       "  'epos': array([0.250002, 0.606472, 0.356464]),\n",
       "  'ipos_cart': array([5.23908706, 5.73392297, 3.29767861]),\n",
       "  'epos_cart': array([4.27438635, 4.0602283 , 1.93533379]),\n",
       "  'hop': Path of 2.3639 A from Li [0.250, 0.856, 0.606] (ind: 0, Wyckoff: 8d) to Li [0.250, 0.606, 0.356] (ind: 0, Wyckoff: 8d),\n",
       "  'hop_label': 0,\n",
       "  'iindex': 1,\n",
       "  'eindex': 3,\n",
       "  'hop_distance': 2.363870708557343,\n",
       "  'cost': 2.36387070814374},\n",
       " {'to_jimage': (0, 1, 0),\n",
       "  'ipos': array([0.250015, 0.85647 , 0.606455]),\n",
       "  'epos': array([0.250004, 1.106468, 0.856467]),\n",
       "  'ipos_cart': array([5.23908706, 5.73392297, 3.29767861]),\n",
       "  'epos_cart': array([6.20360208, 7.40761765, 4.6601303 ]),\n",
       "  'hop': Path of 2.3639 A from Li [0.250, 0.856, 0.606] (ind: 0, Wyckoff: 8d) to Li [0.250, 1.106, 0.856] (ind: 0, Wyckoff: 8d),\n",
       "  'hop_label': 0,\n",
       "  'iindex': 1,\n",
       "  'eindex': 2,\n",
       "  'hop_distance': 2.3638565266155496,\n",
       "  'cost': 2.36387070814374},\n",
       " {'to_jimage': (0, 0, -1),\n",
       "  'ipos': array([0.25001 , 0.356472, 0.106459]),\n",
       "  'epos': array([ 0.250004,  0.106468, -0.143533]),\n",
       "  'ipos_cart': array([3.3098404 , 2.38652024, 0.57293686]),\n",
       "  'epos_cart': array([ 2.3451707 ,  0.7127854 , -0.78938057]),\n",
       "  'hop': Path of 2.3639 A from Li [0.250, 0.356, 0.106] (ind: 0, Wyckoff: 8d) to Li [0.250, 0.106, -0.144] (ind: 0, Wyckoff: 8d),\n",
       "  'hop_label': 0,\n",
       "  'iindex': 0,\n",
       "  'eindex': 2,\n",
       "  'hop_distance': 2.36387070814374,\n",
       "  'cost': 2.36387070814374}]"
      ]
     },
     "execution_count": null,
     "metadata": {},
     "output_type": "execute_result"
    }
   ],
   "source": [
    "print(\"Number of paths =\", len(paths), \"\\n\\nA example of a path of length\", len(paths[0]))\n",
    "paths[0]"
   ]
  }
 ],
 "metadata": {
  "kernelspec": {
   "display_name": "Python 3",
   "language": "python",
   "name": "python3"
  },
  "language_info": {
   "codemirror_mode": {
    "name": "ipython",
    "version": 3
   },
   "file_extension": ".py",
   "mimetype": "text/x-python",
   "name": "python",
   "nbconvert_exporter": "python",
   "pygments_lexer": "ipython3",
   "version": "3.7.9"
  }
 },
 "nbformat": 4,
 "nbformat_minor": 4
}
