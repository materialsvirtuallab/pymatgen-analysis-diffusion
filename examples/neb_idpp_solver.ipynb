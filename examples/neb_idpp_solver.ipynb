{
 "cells": [
  {
   "cell_type": "code",
   "execution_count": null,
   "metadata": {},
   "outputs": [],
   "source": [
    "from pymatgen.core import Structure\n",
    "from pymatgen.analysis.diffusion.neb.pathfinder import IDPPSolver\n",
    "import numpy as np\n",
    "import os\n",
    "\n",
    "dirname = \"../pymatgen/analysis/diffusion/neb/tests/pathfinder_files/\"\n",
    "\n",
    "init_struct = Structure.from_file(os.path.join(dirname, \"CONTCAR-0\"), False)\n",
    "final_struct = Structure.from_file(os.path.join(dirname, \"CONTCAR-1\"), False)\n",
    "\n",
    "obj = IDPPSolver.from_endpoints(endpoints=[init_struct, final_struct], nimages=3, \n",
    "                                sort_tol=1.0)\n",
    "new_path = obj.run(maxiter=5000, tol=1e-5, gtol=1e-3, species=[\"Li\"])"
   ]
  }
 ],
 "metadata": {
  "kernelspec": {
   "display_name": "Python 3",
   "language": "python",
   "name": "python3"
  },
  "language_info": {
   "codemirror_mode": {
    "name": "ipython",
    "version": 3
   },
   "file_extension": ".py",
   "mimetype": "text/x-python",
   "name": "python",
   "nbconvert_exporter": "python",
   "pygments_lexer": "ipython3",
   "version": "3.8.8"
  }
 },
 "nbformat": 4,
 "nbformat_minor": 1
}
