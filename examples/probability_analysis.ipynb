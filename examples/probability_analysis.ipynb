{
 "cells": [
  {
   "cell_type": "markdown",
   "metadata": {},
   "source": [
    "# Example of using ProbabilityDensityAnalysis in pymatgen_diffusion/aimd/pathway.py\n"
   ]
  },
  {
   "cell_type": "markdown",
   "metadata": {},
   "source": [
    "Example 1: Regular initialization\n"
   ]
  },
  {
   "cell_type": "code",
   "execution_count": null,
   "metadata": {},
   "outputs": [
    {
     "name": "stdout",
     "output_type": "stream",
     "text": [
      "Maximum: 0.030735573102033113, Minimum: 0.0\n",
      "Total probability: 1.0\n"
     ]
    }
   ],
   "source": [
    "from pymatgen.analysis.diffusion.aimd.pathway import ProbabilityDensityAnalysis\n",
    "from pymatgen.core import Structure\n",
    "import numpy as np\n",
    "\n",
    "#First prepare the structure and ionic trajectories files\n",
    "trajectories = np.load(\"../pymatgen/analysis/diffusion/aimd/tests/cNa3PS4_trajectories.npy\")\n",
    "structure = Structure.from_file(\"../pymatgen/analysis/diffusion/aimd/tests/cNa3PS4.cif\", False)\n",
    "\n",
    "#ProbabilityDensityAnalysis object\n",
    "pda = ProbabilityDensityAnalysis(structure, trajectories, interval=0.5)\n",
    "#Save probability distribution to a CHGCAR-like file\n",
    "pda.to_chgcar(filename=\"CHGCAR_new.vasp\")\n",
    "\n",
    "print(\"Maximum: %s, Minimum: %s\" % (pda.Pr.max(), pda.Pr.min()))\n",
    "# \\int P(r)d^3r = 1\n",
    "print(\"Total probability: %s\" % np.sum(pda.Pr * pda.structure.lattice.volume / pda.lens[0]/pda.lens[1]/pda.lens[2]))\n"
   ]
  },
  {
   "cell_type": "markdown",
   "metadata": {},
   "source": [
    "Example 2: Initialization using the classmethod from_diffusion_analyzer\n"
   ]
  },
  {
   "cell_type": "code",
   "execution_count": null,
   "metadata": {},
   "outputs": [
    {
     "name": "stdout",
     "output_type": "stream",
     "text": [
      "Maximum: 0.036159497759619796, Minimum: 0.0\n",
      "Total probability: 0.9999999999999999\n"
     ]
    }
   ],
   "source": [
    "from pymatgen.analysis.diffusion.analyzer import DiffusionAnalyzer\n",
    "import json\n",
    "\n",
    "#ProbabilityDensityAnalysis object\n",
    "filename=\"../pymatgen/analysis/diffusion/aimd/tests/cNa3PS4_pda.json\"\n",
    "\n",
    "data = json.load(open(\"../pymatgen/analysis/diffusion/aimd/tests/cNa3PS4_pda.json\", \"r\"))\n",
    "diff_analyzer = DiffusionAnalyzer.from_dict(data)\n",
    "\n",
    "pda = ProbabilityDensityAnalysis.from_diffusion_analyzer(diff_analyzer, interval=0.5,\n",
    "                                                         species=(\"Na\", \"Li\"))\n",
    "#Save probability distribution to a CHGCAR-like file\n",
    "pda.to_chgcar(filename=\"CHGCAR_new2.vasp\")\n",
    "\n",
    "print(\"Maximum: %s, Minimum: %s\" % (pda.Pr.max(), pda.Pr.min()))\n",
    "# \\int P(r)d^3r = 1\n",
    "print(\"Total probability: %s\" % np.sum(pda.Pr * pda.structure.lattice.volume / pda.lens[0]/pda.lens[1]/pda.lens[2]))\n"
   ]
  }
 ],
 "metadata": {
  "kernelspec": {
   "display_name": "Python 3",
   "language": "python",
   "name": "python3"
  },
  "language_info": {
   "codemirror_mode": {
    "name": "ipython",
    "version": 3
   },
   "file_extension": ".py",
   "mimetype": "text/x-python",
   "name": "python",
   "nbconvert_exporter": "python",
   "pygments_lexer": "ipython3",
   "version": "3.8.8"
  }
 },
 "nbformat": 4,
 "nbformat_minor": 1
}
